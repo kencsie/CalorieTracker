{
 "cells": [
  {
   "cell_type": "markdown",
   "metadata": {},
   "source": [
    "# Digits\n",
    "https://hackernoon.com/16-best-sklearn-datasets-for-building-machine-learning-models"
   ]
  },
  {
   "cell_type": "code",
   "execution_count": 1,
   "metadata": {},
   "outputs": [],
   "source": [
    "import torch\n",
    "import torch.nn as nn\n",
    "import torch.optim as optim\n",
    "from torch.utils.data import DataLoader, TensorDataset\n",
    "from sklearn import datasets\n",
    "from sklearn.model_selection import train_test_split\n",
    "from sklearn.preprocessing import StandardScaler"
   ]
  },
  {
   "cell_type": "code",
   "execution_count": 2,
   "metadata": {},
   "outputs": [
    {
     "name": "stdout",
     "output_type": "stream",
     "text": [
      "CUDA (GPU support) is available in PyTorch!\n"
     ]
    }
   ],
   "source": [
    "if torch.cuda.is_available():\n",
    "    print(\"CUDA (GPU support) is available in PyTorch!\")\n",
    "    device = torch.device(\"cuda\")\n",
    "else:\n",
    "    print(\"CUDA (GPU support) is not available. Using CPU.\")\n",
    "    device = torch.device(\"cpu\")"
   ]
  },
  {
   "cell_type": "code",
   "execution_count": 3,
   "metadata": {},
   "outputs": [
    {
     "name": "stdout",
     "output_type": "stream",
     "text": [
      "Requirement already satisfied: scikit-learn in /config/miniconda3/envs/calorie/lib/python3.10/site-packages (1.3.2)\n",
      "Requirement already satisfied: numpy<2.0,>=1.17.3 in /config/miniconda3/envs/calorie/lib/python3.10/site-packages (from scikit-learn) (1.26.2)\n",
      "Requirement already satisfied: scipy>=1.5.0 in /config/miniconda3/envs/calorie/lib/python3.10/site-packages (from scikit-learn) (1.11.4)\n",
      "Requirement already satisfied: joblib>=1.1.1 in /config/miniconda3/envs/calorie/lib/python3.10/site-packages (from scikit-learn) (1.3.2)\n",
      "Requirement already satisfied: threadpoolctl>=2.0.0 in /config/miniconda3/envs/calorie/lib/python3.10/site-packages (from scikit-learn) (3.2.0)\n",
      "Note: you may need to restart the kernel to use updated packages.\n",
      "[[ 0.  0.  5. ...  0.  0.  0.]\n",
      " [ 0.  0.  0. ... 10.  0.  0.]\n",
      " [ 0.  0.  0. ... 16.  9.  0.]\n",
      " ...\n",
      " [ 0.  0.  1. ...  6.  0.  0.]\n",
      " [ 0.  0.  2. ... 12.  0.  0.]\n",
      " [ 0.  0. 10. ... 12.  1.  0.]]\n",
      "digits.data.shape: (1797, 64)\n",
      "[0 1 2 ... 8 9 8]\n",
      "digits.target: (1797,)\n"
     ]
    }
   ],
   "source": [
    "from sklearn.datasets import load_digits\n",
    "\n",
    "# Load the digits dataset\n",
    "digits = load_digits()\n",
    "\n",
    "# Print the features and target data\n",
    "print(digits.data)\n",
    "print(\"digits.data.shape:\",digits.data.shape)\n",
    "print(digits.target)\n",
    "print(\"digits.target:\",digits.target.shape)"
   ]
  },
  {
   "cell_type": "code",
   "execution_count": 4,
   "metadata": {},
   "outputs": [],
   "source": [
    "X = digits.images\n",
    "y = digits.target\n",
    "# Flatten the image data and scale\n",
    "X = X.reshape(X.shape[0], -1)\n",
    "X = StandardScaler().fit_transform(X)\n",
    "\n",
    "# Split the dataset into training and testing sets\n",
    "X_train, X_test, y_train, y_test = train_test_split(X, y, test_size=0.2, random_state=42)\n",
    "\n",
    "# Convert to PyTorch tensors\n",
    "X_train, X_test, y_train, y_test = map(\n",
    "    torch.tensor, (X_train, X_test, y_train, y_test)\n",
    ")"
   ]
  },
  {
   "cell_type": "code",
   "execution_count": 5,
   "metadata": {},
   "outputs": [],
   "source": [
    "# Create Tensor datasets\n",
    "train_ds = TensorDataset(X_train.float(), y_train.long())\n",
    "test_ds = TensorDataset(X_test.float(), y_test.long())\n",
    "\n",
    "# Data loaders\n",
    "train_loader = DataLoader(train_ds, batch_size=32, shuffle=True)\n",
    "test_loader = DataLoader(test_ds, batch_size=32, shuffle=False)"
   ]
  },
  {
   "cell_type": "code",
   "execution_count": 6,
   "metadata": {},
   "outputs": [],
   "source": [
    "# Define the MLP model using nn.Sequential\n",
    "model = nn.Sequential(\n",
    "    nn.Linear(64, 128),  # 64 input features (8x8 images), 128 outputs\n",
    "    nn.ReLU(),\n",
    "    nn.Linear(128, 64),  # 128 input features, 64 outputs\n",
    "    nn.ReLU(),\n",
    "    nn.Linear(64, 10)    # 64 input features, 10 outputs (digits 0-9)\n",
    ").to(device)\n",
    "\n",
    "# Loss function and optimizer\n",
    "criterion = nn.CrossEntropyLoss()\n",
    "optimizer = optim.Adam(model.parameters(), lr=0.001)"
   ]
  },
  {
   "cell_type": "code",
   "execution_count": 7,
   "metadata": {},
   "outputs": [
    {
     "name": "stdout",
     "output_type": "stream",
     "text": [
      "Epoch 1/15, Loss: 1.1373, Accuracy: 78.89%\n",
      "Epoch 2/15, Loss: 0.3163, Accuracy: 90.83%\n",
      "Epoch 3/15, Loss: 0.2170, Accuracy: 94.72%\n",
      "Epoch 4/15, Loss: 0.3110, Accuracy: 96.11%\n",
      "Epoch 5/15, Loss: 0.0724, Accuracy: 96.94%\n",
      "Epoch 6/15, Loss: 0.0427, Accuracy: 96.67%\n",
      "Epoch 7/15, Loss: 0.0684, Accuracy: 97.50%\n",
      "Epoch 8/15, Loss: 0.0386, Accuracy: 97.22%\n",
      "Epoch 9/15, Loss: 0.0128, Accuracy: 97.78%\n",
      "Epoch 10/15, Loss: 0.0167, Accuracy: 97.78%\n",
      "Epoch 11/15, Loss: 0.0193, Accuracy: 97.50%\n",
      "Epoch 12/15, Loss: 0.0060, Accuracy: 97.50%\n",
      "Epoch 13/15, Loss: 0.0099, Accuracy: 97.50%\n",
      "Epoch 14/15, Loss: 0.0052, Accuracy: 97.50%\n",
      "Epoch 15/15, Loss: 0.0052, Accuracy: 97.50%\n",
      "Training complete\n"
     ]
    }
   ],
   "source": [
    "# Training loop\n",
    "num_epochs = 15\n",
    "for epoch in range(num_epochs):\n",
    "    model.train()\n",
    "    for inputs, targets in train_loader:\n",
    "        inputs, targets = inputs.to(device), targets.to(device)\n",
    "\n",
    "        optimizer.zero_grad()\n",
    "        outputs = model(inputs)\n",
    "        loss = criterion(outputs, targets)\n",
    "        loss.backward()\n",
    "        optimizer.step()\n",
    "\n",
    "    # Evaluation\n",
    "    model.eval()\n",
    "    with torch.no_grad():\n",
    "        correct = 0\n",
    "        total = 0\n",
    "        for inputs, targets in test_loader:\n",
    "            inputs, targets = inputs.to(device), targets.to(device)\n",
    "\n",
    "            outputs = model(inputs)\n",
    "            _, predicted = torch.max(outputs.data, 1)\n",
    "            total += targets.size(0)\n",
    "            correct += (predicted == targets).sum().item()\n",
    "\n",
    "    accuracy = 100 * correct / total\n",
    "    print(f'Epoch {epoch+1}/{num_epochs}, Loss: {loss.item():.4f}, Accuracy: {accuracy:.2f}%')\n",
    "\n",
    "print(\"Training complete\")"
   ]
  }
 ],
 "metadata": {
  "kernelspec": {
   "display_name": "calorie",
   "language": "python",
   "name": "python3"
  },
  "language_info": {
   "codemirror_mode": {
    "name": "ipython",
    "version": 3
   },
   "file_extension": ".py",
   "mimetype": "text/x-python",
   "name": "python",
   "nbconvert_exporter": "python",
   "pygments_lexer": "ipython3",
   "version": "3.10.13"
  }
 },
 "nbformat": 4,
 "nbformat_minor": 2
}
